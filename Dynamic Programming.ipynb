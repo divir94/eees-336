{
 "cells": [
  {
   "cell_type": "code",
   "execution_count": 202,
   "metadata": {
    "collapsed": false
   },
   "outputs": [
    {
     "name": "stdout",
     "output_type": "stream",
     "text": [
      "Maximum boxes in [(1, 1, 1), (2, 2, 2), (3, 3, 3), (4, 4, 4)] is 4\n",
      "Maximum boxes in [(1, 1, 1), (2, 2, 2), (3, 3, 100), (4, 4, 4)] is 3\n",
      "Maximum boxes in [(1, 1, 1), (2, 2, 1), (3, 3, 1), (4, 4, 4)] is 2\n",
      "Maximum boxes in [(1, 1, 1), (2, 2, 1), (3, 3, 1), (4, 4, 1)] is 1\n"
     ]
    }
   ],
   "source": [
    "def can_fit(A, B):\n",
    "    '''Check if box A fits in box B'''\n",
    "    return 1 if sum(x < y for x, y in zip(A, B)) == len(A) else -1\n",
    "\n",
    "def num_boxes(boxes):\n",
    "    '''Maximum number of boxes that can fit inside one another'''\n",
    "    boxes.sort(can_fit, reverse=True)\n",
    "    n = len(boxes)\n",
    "    memo = [0] * n\n",
    "    \n",
    "    for i in xrange(n):\n",
    "        max_seen = 0\n",
    "        for j in xrange(i):\n",
    "            if can_fit(boxes[j], boxes[i]) == 1:\n",
    "                max_seen = max(memo[j], max_seen)\n",
    "        memo[i] = max_seen + 1\n",
    "\n",
    "    return max(memo)\n",
    "          \n",
    "boxes1 = [(4,4,4), (3,3,3), (2,2,2), (1,1,1)]\n",
    "boxes2 = [(4,4,4), (3,3,100), (2,2,2), (1,1,1)]\n",
    "boxes3 = [(4,4,4), (3,3,1), (2,2,1), (1,1,1)]\n",
    "boxes4 = [(4,4,1), (3,3,1), (2,2,1), (1,1,1)]\n",
    "\n",
    "print 'Maximum boxes in %s is %d' % (boxes1, num_boxes(boxes1))\n",
    "print 'Maximum boxes in %s is %d' % (boxes2, num_boxes(boxes2))\n",
    "print 'Maximum boxes in %s is %d' % (boxes3, num_boxes(boxes3))\n",
    "print 'Maximum boxes in %s is %d' % (boxes4, num_boxes(boxes4))"
   ]
  },
  {
   "cell_type": "code",
   "execution_count": 291,
   "metadata": {
    "collapsed": false
   },
   "outputs": [
    {
     "name": "stdout",
     "output_type": "stream",
     "text": [
      "True\n",
      "True\n",
      "True\n",
      "False\n",
      "False\n",
      "False\n"
     ]
    }
   ],
   "source": [
    "def table_idx(char):\n",
    "    '''Converts character in S to index in table T'''\n",
    "    return ord(char) - ord('a')\n",
    "\n",
    "def tiny_table(pat, t):\n",
    "    # initialize memo of size m + 1\n",
    "    # memo[0] = first char in pattern\n",
    "    # memo[1] = second char in pattern\n",
    "    # memo[2] = T[memo[0]][memo[1]]\n",
    "    memo = [[a] for a in pat] + ['-'] \n",
    "    memo[2] = [T[table_idx(pat[0])][table_idx(pat[1])]]\n",
    "    for i in range(2, len(pat)):\n",
    "        # close set is all symbols that can be formed by putting parenthesis in pattern\n",
    "        closure = set()\n",
    "        # last is closure set of pattern ending at last character\n",
    "        last = memo[i]\n",
    "        # last_last is closure set of pattern ending at second last character\n",
    "        last_last = memo[i - 2]\n",
    "        curr = pat[i]\n",
    "        for p in last:\n",
    "            closure.add(T[table_idx(p)][table_idx(curr)])\n",
    "        for p in last_last:\n",
    "            # sysmbol from multiplying current character with last\n",
    "            curr_last = T[table_idx(pat[i - 1])][table_idx(pat[i])]\n",
    "            closure.add(T[table_idx(p)][table_idx(curr_last)])\n",
    "        memo[i + 1] = closure\n",
    "    return t in memo[-1]\n",
    "\n",
    "T = [['b', 'b', 'a'],\n",
    "    ['c', 'b', 'a'],\n",
    "    ['a', 'c', 'c']]\n",
    "\n",
    "print tiny_table('abc', 'b')\n",
    "print tiny_table('abcb', 'a')\n",
    "print tiny_table('abcb', 'b')\n",
    "print tiny_table('abcb', 'c')\n",
    "print tiny_table('ccc', 'a')\n",
    "print tiny_table('aaa', 'a')"
   ]
  },
  {
   "cell_type": "code",
   "execution_count": null,
   "metadata": {
    "collapsed": true
   },
   "outputs": [],
   "source": []
  }
 ],
 "metadata": {
  "kernelspec": {
   "display_name": "Python 2",
   "language": "python",
   "name": "python2"
  },
  "language_info": {
   "codemirror_mode": {
    "name": "ipython",
    "version": 2
   },
   "file_extension": ".py",
   "mimetype": "text/x-python",
   "name": "python",
   "nbconvert_exporter": "python",
   "pygments_lexer": "ipython2",
   "version": "2.7.10"
  }
 },
 "nbformat": 4,
 "nbformat_minor": 0
}
