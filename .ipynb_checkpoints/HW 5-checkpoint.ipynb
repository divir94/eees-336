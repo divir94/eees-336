{
 "cells": [
  {
   "cell_type": "code",
   "execution_count": 49,
   "metadata": {
    "collapsed": false
   },
   "outputs": [
    {
     "name": "stdout",
     "output_type": "stream",
     "text": [
      "Yes\n"
     ]
    }
   ],
   "source": [
    "import numpy as np\n",
    "\n",
    "def alien_msg(a, b, c):\n",
    "    p, q, n = len(a), len(b), len(c)\n",
    "    memo = np.zeros((n, p, q))\n",
    "    memo[n - 1][0][q - 1] = b[-1] == c[-1]\n",
    "    memo[n - 1][p - 1][0] = a[-1] == c[-1]\n",
    "    \n",
    "    for k in reversed(xrange(n - 1)):\n",
    "        for i in xrange(p):\n",
    "            for j in xrange(q):\n",
    "                memo[k][i][j] = ((a[i] == c[k]) and memo[k + 1][(i + 1) % p][j]) or \\\n",
    "                ((b[j] == c[k]) and memo[k + 1][i][(j + 1) % q])\n",
    "    #print memo\n",
    "    return \"Yes\" if memo[0][0][0] else \"No\"\n",
    "    \n",
    "# a = \"01\"\n",
    "# b = \"10\"\n",
    "# c = \"1010\"\n",
    "# c2 = \"010110\"\n",
    "a = \"0011\"\n",
    "b = \"1010\"\n",
    "c = \"010110100011\"\n",
    "c2 = \"000101101011\"\n",
    "print alien_msg(a, b, c2)"
   ]
  },
  {
   "cell_type": "code",
   "execution_count": null,
   "metadata": {
    "collapsed": true
   },
   "outputs": [],
   "source": []
  }
 ],
 "metadata": {
  "kernelspec": {
   "display_name": "Python 2",
   "language": "python",
   "name": "python2"
  },
  "language_info": {
   "codemirror_mode": {
    "name": "ipython",
    "version": 2
   },
   "file_extension": ".py",
   "mimetype": "text/x-python",
   "name": "python",
   "nbconvert_exporter": "python",
   "pygments_lexer": "ipython2",
   "version": "2.7.10"
  }
 },
 "nbformat": 4,
 "nbformat_minor": 0
}
