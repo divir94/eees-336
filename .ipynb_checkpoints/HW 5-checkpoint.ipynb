{
 "cells": [
  {
   "cell_type": "code",
   "execution_count": 81,
   "metadata": {
    "collapsed": false
   },
   "outputs": [
    {
     "name": "stdout",
     "output_type": "stream",
     "text": [
      "Yes\n",
      "No\n",
      "Yes\n",
      "No\n",
      "No\n"
     ]
    }
   ],
   "source": [
    "import numpy as np\n",
    "\n",
    "def alien_msg(a, b, c):\n",
    "    p, q, n = len(a), len(b), len(c)\n",
    "    memo = np.zeros((n, p, q))\n",
    "    memo[n - 1][0][q - 1] = b[-1] == c[-1]\n",
    "    memo[n - 1][p - 1][0] = a[-1] == c[-1]\n",
    "    \n",
    "    for k in reversed(xrange(n - 1)):\n",
    "        for i in xrange(p):\n",
    "            for j in xrange(q):\n",
    "                memo[k][i][j] = ((a[i] == c[k]) and memo[k + 1][(i + 1) % p][j]) or \\\n",
    "                ((b[j] == c[k]) and memo[k + 1][i][(j + 1) % q])\n",
    "    return \"Yes\" if memo[0][0][0] else \"No\"\n",
    "    \n",
    "\n",
    "a1, b1, c1 = \"0011\", \"1010\", \"010110100011\"\n",
    "a2, b2, c2 = \"0011\", \"1010\", \"000101101011\"\n",
    "a3, b3, c3 = \"11\", \"00\", \"1010\"\n",
    "a4, b4, c4 = \"0011\", \"1010\", \"00111111\"\n",
    "a5, b5, c5 = \"1111\", \"1111\", \"010110100011\"\n",
    "\n",
    "print alien_msg(a1, b1, c1)\n",
    "print alien_msg(a2, b2, c2)\n",
    "print alien_msg(a3, b3, c3)\n",
    "print alien_msg(a4, b4, c4)\n",
    "print alien_msg(a5, b5, c5)"
   ]
  },
  {
   "cell_type": "code",
   "execution_count": 76,
   "metadata": {
    "collapsed": false
   },
   "outputs": [
    {
     "name": "stdout",
     "output_type": "stream",
     "text": [
      "[-4  5] [ 3 -2]\n",
      "True\n"
     ]
    }
   ],
   "source": [
    "def swap(arr, i, j):\n",
    "    temp = arr[i]\n",
    "    arr[i] = arr[j]\n",
    "    arr[j] = temp\n",
    "\n",
    "def find_winner(f, d):\n",
    "    arr = np.array(d) - np.array(f)\n",
    "    n = len(arr)\n",
    "    target = sum(arr) / 2.\n",
    "    curr_sum = sum(arr[n / 2:])\n",
    "    curr_dist = abs(curr_sum - target)\n",
    "    for i in range(n / 2):\n",
    "        for j in range(n/2, n):\n",
    "            new_sum =  curr_sum - arr[j] + arr[i]\n",
    "            new_dist = abs(new_sum - target)\n",
    "            if new_dist < curr_dist:\n",
    "                swap(arr, i, j)\n",
    "                curr_sum = new_sum\n",
    "                curr_dist = new_dist\n",
    "    A, B = arr[:n / 2], arr[n / 2:]\n",
    "    print A, B\n",
    "    return sum(A) > 0 and sum(B) > 0\n",
    "     \n",
    "# arr = [5, 3, -2, -4]\n",
    "# arr2 = [-2, 3, 5, -4, -7, 7]\n",
    "f = np.array([7, 3, 2, 8])\n",
    "d = np.array([3, 8, 5, 6])\n",
    "print find_winner(f, d)"
   ]
  },
  {
   "cell_type": "code",
   "execution_count": 68,
   "metadata": {
    "collapsed": false
   },
   "outputs": [
    {
     "name": "stdout",
     "output_type": "stream",
     "text": [
      "[ 4 -5 -3  2]\n"
     ]
    }
   ],
   "source": [
    "f = np.array([7, 3, 2, 8])\n",
    "d = np.array([3, 8, 5, 6])\n",
    "print f - d"
   ]
  },
  {
   "cell_type": "code",
   "execution_count": null,
   "metadata": {
    "collapsed": true
   },
   "outputs": [],
   "source": []
  }
 ],
 "metadata": {
  "kernelspec": {
   "display_name": "Python 2",
   "language": "python",
   "name": "python2"
  },
  "language_info": {
   "codemirror_mode": {
    "name": "ipython",
    "version": 2
   },
   "file_extension": ".py",
   "mimetype": "text/x-python",
   "name": "python",
   "nbconvert_exporter": "python",
   "pygments_lexer": "ipython2",
   "version": "2.7.10"
  }
 },
 "nbformat": 4,
 "nbformat_minor": 0
}
