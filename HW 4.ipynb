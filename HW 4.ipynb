{
 "cells": [
  {
   "cell_type": "markdown",
   "metadata": {},
   "source": [
    "# Problem 4.3: How Many Sums?"
   ]
  },
  {
   "cell_type": "markdown",
   "metadata": {},
   "source": [
    "##Problem\n",
    "Let A and B be subsets of $\\left\\{1,\\ldots,n\\right\\}$. Consider the set $C\\subset\\left\\{1,\\ldots,2n\\right\\}$ defined as $C=\\left\\{a+b\\:\\:\\mid\\:a\\in A\\wedge b\\in B\\right\\}$. We would like to count for each $c\\in C$ the number of ways it is obtained from elements $a\\in A$ and $b\\in B$. E.g., for $A=\\left\\{1,3\\right\\}$ and $B=\\left\\{2,4\\right\\}$ the set $C=\\left\\{3,5,7\\right\\}$ and $3$ and $7$ are obtained one way, while $5$ is obtained two ways.\n",
    "\n",
    "$a.$ Give and analyze a natural brute-force algorithm. Your runtime should be in terms of $n$.\n",
    "\n",
    "$b.$ Give and analyze an algorithm with asymptotically better runtime than brute force, in terms of $n$.\n",
    "\n",
    "In both cases your algorithm should output a list of elements of $C$ with their respective counts."
   ]
  },
  {
   "cell_type": "markdown",
   "metadata": {},
   "source": [
    "##Solution"
   ]
  },
  {
   "cell_type": "code",
   "execution_count": 34,
   "metadata": {
    "collapsed": false
   },
   "outputs": [
    {
     "name": "stdout",
     "output_type": "stream",
     "text": [
      "[(3, 1), (5, 2), (7, 1)]\n"
     ]
    }
   ],
   "source": [
    "def brute_count(A, B):\n",
    "    # initialize dictionary to 0s\n",
    "    counts = {} \n",
    "    # for every sum increment dictionary\n",
    "    for a in A:\n",
    "        for b in B:\n",
    "            counts[a + b] = counts.get(a + b, 0) + 1\n",
    "    return counts.items()\n",
    "\n",
    "print brute_count([1,3], [2,4])"
   ]
  },
  {
   "cell_type": "code",
   "execution_count": 95,
   "metadata": {
    "collapsed": false
   },
   "outputs": [
    {
     "name": "stdout",
     "output_type": "stream",
     "text": [
      "Array:  [4, 5, 7, 8, 23, 26, 28, 29, 45, 50, 53, 57, 58, 61, 64, 66, 67, 73, 96, 99]\n",
      "Actual: 53, Computed: 53\n"
     ]
    }
   ],
   "source": [
    "import random\n",
    "\n",
    "def median(A, B):\n",
    "    if len(A) == 1: return max(A[0], B[0])\n",
    "    if len(A) == 2:\n",
    "        return min(max(A[0], B[0]), min(A[1], B[1]))\n",
    "    \n",
    "    mid_A, mid_B = len(A)/2, len(B)/2\n",
    "    median_A, median_B = A[len(A)/2], B[len(B)/2]\n",
    "\n",
    "    if median_A > median_B:\n",
    "        return median(A[:mid_A + 1], B[mid_B:])\n",
    "    else:\n",
    "        return median(A[mid_A:], B[:mid_B + 1])\n",
    "\n",
    "n = 10\n",
    "C = random.sample(range(1, 100), 2*n)\n",
    "A, B = C[:n], C[n:]\n",
    "C = sorted(C)\n",
    "A.sort(), B.sort()\n",
    "\n",
    "actual = C[len(C)/2]\n",
    "computed = median(A, B)\n",
    "print 'Array: ', C\n",
    "print 'Actual: %d, Computed: %d' % (actual, computed)"
   ]
  },
  {
   "cell_type": "code",
   "execution_count": 130,
   "metadata": {
    "collapsed": false
   },
   "outputs": [
    {
     "name": "stdout",
     "output_type": "stream",
     "text": [
      "Val: 21\n"
     ]
    }
   ],
   "source": [
    "def findPeak(node):\n",
    "    if node.left is None:\n",
    "        return node\n",
    "    if node.left.value > node.value:\n",
    "        return findPeak(node.left)\n",
    "    elif node.right.value > node.value:\n",
    "        return findPeak(node.right)\n",
    "    return node\n",
    "\n",
    "\"************ Testing ************\"\n",
    "class Node:\n",
    "    left, right = None, None\n",
    "    def __init__(self, val):\n",
    "        self.value = val\n",
    "    def __str__(self):\n",
    "        return 'Val: %d' % (self.value)\n",
    "\n",
    "def create_tree(arr):\n",
    "    nodes = [Node(arr[0])]\n",
    "    for i, val in enumerate(arr):\n",
    "        node = nodes[i]\n",
    "        left_idx = 2*i + 1\n",
    "        right_idx = 2*i + 2\n",
    "        if left_idx < len(arr):\n",
    "            node_left = Node(arr[left_idx])\n",
    "            node.left = node_left\n",
    "            nodes.append(node_left)\n",
    "        if right_idx < len(arr):\n",
    "            node_right = Node(arr[right_idx])\n",
    "            node.right = node_right\n",
    "            nodes.append(node_right)\n",
    "    return nodes[0]\n",
    "   \n",
    "bfs_arr = [10,6,18,4,8,21,15]\n",
    "root = create_tree(bfs_arr)\n",
    "peak = findPeak(root)\n",
    "print peak"
   ]
  },
  {
   "cell_type": "code",
   "execution_count": null,
   "metadata": {
    "collapsed": true
   },
   "outputs": [],
   "source": []
  }
 ],
 "metadata": {
  "kernelspec": {
   "display_name": "Python 2",
   "language": "python",
   "name": "python2"
  },
  "language_info": {
   "codemirror_mode": {
    "name": "ipython",
    "version": 2
   },
   "file_extension": ".py",
   "mimetype": "text/x-python",
   "name": "python",
   "nbconvert_exporter": "python",
   "pygments_lexer": "ipython2",
   "version": "2.7.10"
  }
 },
 "nbformat": 4,
 "nbformat_minor": 0
}
